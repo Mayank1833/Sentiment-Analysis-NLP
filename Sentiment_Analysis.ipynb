{
  "nbformat": 4,
  "nbformat_minor": 0,
  "metadata": {
    "accelerator": "GPU",
    "colab": {
      "name": "Sentiment_Analysis.ipynb",
      "provenance": [],
      "collapsed_sections": []
    },
    "kernelspec": {
      "display_name": "Python 3",
      "language": "python",
      "name": "python3"
    },
    "language_info": {
      "codemirror_mode": {
        "name": "ipython",
        "version": 3
      },
      "file_extension": ".py",
      "mimetype": "text/x-python",
      "name": "python",
      "nbconvert_exporter": "python",
      "pygments_lexer": "ipython3",
      "version": "3.8.2"
    }
  },
  "cells": [
    {
      "cell_type": "code",
      "metadata": {
        "id": "f1rX9JzFKent"
      },
      "source": [
        "#importing the necessary libraries\n",
        "\n",
        "import numpy as np\n",
        "import pandas as pd\n",
        "import matplotlib.pyplot as plt\n",
        "from keras.models import Sequential\n",
        "from keras.layers import Dense\n",
        "import nltk\n",
        "import re\n",
        "from bs4 import BeautifulSoup\n",
        "from sklearn.feature_extraction.text import CountVectorizer\n",
        "from sklearn.preprocessing import LabelBinarizer"
      ],
      "execution_count": 59,
      "outputs": []
    },
    {
      "cell_type": "code",
      "metadata": {
        "colab": {
          "base_uri": "https://localhost:8080/"
        },
        "id": "Hhw32diNpL6_",
        "outputId": "e9136fcc-550b-48f5-c899-e793c56f5637"
      },
      "source": [
        "nltk.download('stopwords')\n",
        "nltk.download('wordnet')"
      ],
      "execution_count": 60,
      "outputs": [
        {
          "output_type": "stream",
          "text": [
            "[nltk_data] Downloading package stopwords to /root/nltk_data...\n",
            "[nltk_data]   Package stopwords is already up-to-date!\n",
            "[nltk_data] Downloading package wordnet to /root/nltk_data...\n",
            "[nltk_data]   Package wordnet is already up-to-date!\n"
          ],
          "name": "stdout"
        },
        {
          "output_type": "execute_result",
          "data": {
            "text/plain": [
              "True"
            ]
          },
          "metadata": {
            "tags": []
          },
          "execution_count": 60
        }
      ]
    },
    {
      "cell_type": "code",
      "metadata": {
        "colab": {
          "base_uri": "https://localhost:8080/",
          "height": 374
        },
        "id": "XdVmp5EmKsgy",
        "outputId": "d399b050-ea56-4a31-a22d-477478b33be6"
      },
      "source": [
        "# importing the training data\n",
        "\n",
        "df=pd.read_csv('IMDB Dataset.csv')\n",
        "\n",
        "print(df.shape)\n",
        "df.head(10)"
      ],
      "execution_count": 61,
      "outputs": [
        {
          "output_type": "stream",
          "text": [
            "(50000, 2)\n"
          ],
          "name": "stdout"
        },
        {
          "output_type": "execute_result",
          "data": {
            "text/html": [
              "<div>\n",
              "<style scoped>\n",
              "    .dataframe tbody tr th:only-of-type {\n",
              "        vertical-align: middle;\n",
              "    }\n",
              "\n",
              "    .dataframe tbody tr th {\n",
              "        vertical-align: top;\n",
              "    }\n",
              "\n",
              "    .dataframe thead th {\n",
              "        text-align: right;\n",
              "    }\n",
              "</style>\n",
              "<table border=\"1\" class=\"dataframe\">\n",
              "  <thead>\n",
              "    <tr style=\"text-align: right;\">\n",
              "      <th></th>\n",
              "      <th>review</th>\n",
              "      <th>sentiment</th>\n",
              "    </tr>\n",
              "  </thead>\n",
              "  <tbody>\n",
              "    <tr>\n",
              "      <th>0</th>\n",
              "      <td>One of the other reviewers has mentioned that ...</td>\n",
              "      <td>positive</td>\n",
              "    </tr>\n",
              "    <tr>\n",
              "      <th>1</th>\n",
              "      <td>A wonderful little production. &lt;br /&gt;&lt;br /&gt;The...</td>\n",
              "      <td>positive</td>\n",
              "    </tr>\n",
              "    <tr>\n",
              "      <th>2</th>\n",
              "      <td>I thought this was a wonderful way to spend ti...</td>\n",
              "      <td>positive</td>\n",
              "    </tr>\n",
              "    <tr>\n",
              "      <th>3</th>\n",
              "      <td>Basically there's a family where a little boy ...</td>\n",
              "      <td>negative</td>\n",
              "    </tr>\n",
              "    <tr>\n",
              "      <th>4</th>\n",
              "      <td>Petter Mattei's \"Love in the Time of Money\" is...</td>\n",
              "      <td>positive</td>\n",
              "    </tr>\n",
              "    <tr>\n",
              "      <th>5</th>\n",
              "      <td>Probably my all-time favorite movie, a story o...</td>\n",
              "      <td>positive</td>\n",
              "    </tr>\n",
              "    <tr>\n",
              "      <th>6</th>\n",
              "      <td>I sure would like to see a resurrection of a u...</td>\n",
              "      <td>positive</td>\n",
              "    </tr>\n",
              "    <tr>\n",
              "      <th>7</th>\n",
              "      <td>This show was an amazing, fresh &amp; innovative i...</td>\n",
              "      <td>negative</td>\n",
              "    </tr>\n",
              "    <tr>\n",
              "      <th>8</th>\n",
              "      <td>Encouraged by the positive comments about this...</td>\n",
              "      <td>negative</td>\n",
              "    </tr>\n",
              "    <tr>\n",
              "      <th>9</th>\n",
              "      <td>If you like original gut wrenching laughter yo...</td>\n",
              "      <td>positive</td>\n",
              "    </tr>\n",
              "  </tbody>\n",
              "</table>\n",
              "</div>"
            ],
            "text/plain": [
              "                                              review sentiment\n",
              "0  One of the other reviewers has mentioned that ...  positive\n",
              "1  A wonderful little production. <br /><br />The...  positive\n",
              "2  I thought this was a wonderful way to spend ti...  positive\n",
              "3  Basically there's a family where a little boy ...  negative\n",
              "4  Petter Mattei's \"Love in the Time of Money\" is...  positive\n",
              "5  Probably my all-time favorite movie, a story o...  positive\n",
              "6  I sure would like to see a resurrection of a u...  positive\n",
              "7  This show was an amazing, fresh & innovative i...  negative\n",
              "8  Encouraged by the positive comments about this...  negative\n",
              "9  If you like original gut wrenching laughter yo...  positive"
            ]
          },
          "metadata": {
            "tags": []
          },
          "execution_count": 61
        }
      ]
    },
    {
      "cell_type": "code",
      "metadata": {
        "id": "tRJFs_9OPC4N",
        "colab": {
          "base_uri": "https://localhost:8080/",
          "height": 172
        },
        "outputId": "b6dbaff1-224c-4598-b332-0bcefb344c08"
      },
      "source": [
        "#summary of the training data\n",
        "\n",
        "df.describe()"
      ],
      "execution_count": 62,
      "outputs": [
        {
          "output_type": "execute_result",
          "data": {
            "text/html": [
              "<div>\n",
              "<style scoped>\n",
              "    .dataframe tbody tr th:only-of-type {\n",
              "        vertical-align: middle;\n",
              "    }\n",
              "\n",
              "    .dataframe tbody tr th {\n",
              "        vertical-align: top;\n",
              "    }\n",
              "\n",
              "    .dataframe thead th {\n",
              "        text-align: right;\n",
              "    }\n",
              "</style>\n",
              "<table border=\"1\" class=\"dataframe\">\n",
              "  <thead>\n",
              "    <tr style=\"text-align: right;\">\n",
              "      <th></th>\n",
              "      <th>review</th>\n",
              "      <th>sentiment</th>\n",
              "    </tr>\n",
              "  </thead>\n",
              "  <tbody>\n",
              "    <tr>\n",
              "      <th>count</th>\n",
              "      <td>50000</td>\n",
              "      <td>50000</td>\n",
              "    </tr>\n",
              "    <tr>\n",
              "      <th>unique</th>\n",
              "      <td>49582</td>\n",
              "      <td>2</td>\n",
              "    </tr>\n",
              "    <tr>\n",
              "      <th>top</th>\n",
              "      <td>Loved today's show!!! It was a variety and not...</td>\n",
              "      <td>negative</td>\n",
              "    </tr>\n",
              "    <tr>\n",
              "      <th>freq</th>\n",
              "      <td>5</td>\n",
              "      <td>25000</td>\n",
              "    </tr>\n",
              "  </tbody>\n",
              "</table>\n",
              "</div>"
            ],
            "text/plain": [
              "                                                   review sentiment\n",
              "count                                               50000     50000\n",
              "unique                                              49582         2\n",
              "top     Loved today's show!!! It was a variety and not...  negative\n",
              "freq                                                    5     25000"
            ]
          },
          "metadata": {
            "tags": []
          },
          "execution_count": 62
        }
      ]
    },
    {
      "cell_type": "code",
      "metadata": {
        "id": "yM3wUrNULUdA",
        "colab": {
          "base_uri": "https://localhost:8080/"
        },
        "outputId": "cfad7f22-089d-4360-fc66-aaceb7d0566a"
      },
      "source": [
        "#Checking the sentiment count\n",
        "\n",
        "print(\"postive \",np.sum(df[\"sentiment\"]==\"positive\"))\n",
        "print(\"negative \",np.sum(df[\"sentiment\"]==\"negative\"))"
      ],
      "execution_count": 63,
      "outputs": [
        {
          "output_type": "stream",
          "text": [
            "postive  25000\n",
            "negative  25000\n"
          ],
          "name": "stdout"
        }
      ]
    },
    {
      "cell_type": "code",
      "metadata": {
        "id": "mDZ0ETy8M0Lw"
      },
      "source": [
        "#The dataset is balanced"
      ],
      "execution_count": 64,
      "outputs": []
    },
    {
      "cell_type": "code",
      "metadata": {
        "id": "bpFtVgZJX3d6",
        "colab": {
          "base_uri": "https://localhost:8080/",
          "height": 203
        },
        "outputId": "acd82f19-0fd5-48f3-82bc-43440b51fbde"
      },
      "source": [
        "#Clearing the noise in the data - such as html blocks and special characters\n",
        "\n",
        "def clear_noise(text):\n",
        "  \n",
        "  # removing html scripts using Beautiful Soup\n",
        "  text1=BeautifulSoup(text)\n",
        "  text1=text1.get_text()\n",
        "\n",
        "  #removing all other character than alphabets and numbers using regular expression\n",
        "  text2=re.sub('[^a-zA-Z0-9\\s]', '', text1)\n",
        "\n",
        "  return text2\n",
        "\n",
        "df[\"review\"]=df[\"review\"].apply(clear_noise)\n",
        "df.head()"
      ],
      "execution_count": 65,
      "outputs": [
        {
          "output_type": "execute_result",
          "data": {
            "text/html": [
              "<div>\n",
              "<style scoped>\n",
              "    .dataframe tbody tr th:only-of-type {\n",
              "        vertical-align: middle;\n",
              "    }\n",
              "\n",
              "    .dataframe tbody tr th {\n",
              "        vertical-align: top;\n",
              "    }\n",
              "\n",
              "    .dataframe thead th {\n",
              "        text-align: right;\n",
              "    }\n",
              "</style>\n",
              "<table border=\"1\" class=\"dataframe\">\n",
              "  <thead>\n",
              "    <tr style=\"text-align: right;\">\n",
              "      <th></th>\n",
              "      <th>review</th>\n",
              "      <th>sentiment</th>\n",
              "    </tr>\n",
              "  </thead>\n",
              "  <tbody>\n",
              "    <tr>\n",
              "      <th>0</th>\n",
              "      <td>One of the other reviewers has mentioned that ...</td>\n",
              "      <td>positive</td>\n",
              "    </tr>\n",
              "    <tr>\n",
              "      <th>1</th>\n",
              "      <td>A wonderful little production The filming tech...</td>\n",
              "      <td>positive</td>\n",
              "    </tr>\n",
              "    <tr>\n",
              "      <th>2</th>\n",
              "      <td>I thought this was a wonderful way to spend ti...</td>\n",
              "      <td>positive</td>\n",
              "    </tr>\n",
              "    <tr>\n",
              "      <th>3</th>\n",
              "      <td>Basically theres a family where a little boy J...</td>\n",
              "      <td>negative</td>\n",
              "    </tr>\n",
              "    <tr>\n",
              "      <th>4</th>\n",
              "      <td>Petter Matteis Love in the Time of Money is a ...</td>\n",
              "      <td>positive</td>\n",
              "    </tr>\n",
              "  </tbody>\n",
              "</table>\n",
              "</div>"
            ],
            "text/plain": [
              "                                              review sentiment\n",
              "0  One of the other reviewers has mentioned that ...  positive\n",
              "1  A wonderful little production The filming tech...  positive\n",
              "2  I thought this was a wonderful way to spend ti...  positive\n",
              "3  Basically theres a family where a little boy J...  negative\n",
              "4  Petter Matteis Love in the Time of Money is a ...  positive"
            ]
          },
          "metadata": {
            "tags": []
          },
          "execution_count": 65
        }
      ]
    },
    {
      "cell_type": "code",
      "metadata": {
        "id": "xRcb7UE3gCpM"
      },
      "source": [
        "# All html and other special characters got removed"
      ],
      "execution_count": 66,
      "outputs": []
    },
    {
      "cell_type": "code",
      "metadata": {
        "id": "djJkJJybVajq"
      },
      "source": [
        "# Now preprocessing the data according to the bag of word model"
      ],
      "execution_count": 67,
      "outputs": []
    },
    {
      "cell_type": "code",
      "metadata": {
        "id": "YGwPH9gGk7Ct"
      },
      "source": [
        "# 1. Tokenisation (Breaking down the document into words)\n",
        "\n",
        "def tokenize(text):\n",
        "  return text.split()\n",
        "\n",
        "# 2. Stopword Removal (Removal of words which are not meaningful for the model)\n",
        "\n",
        "sw=set(nltk.corpus.stopwords.words('english'))\n",
        "\n",
        "def stopword_removal(text):\n",
        "  useful_words=[w for w in text if w not in sw]\n",
        "  return useful_words\n",
        "\n",
        "# 3. Lemmatization (Changing all forms of a verb to root form like plays ,played etc. to play)\n",
        "\n",
        "wn=nltk.stem.WordNetLemmatizer()\n",
        "\n",
        "def lemmatize(text):\n",
        "  words=[wn.lemmatize(w) for w in text]\n",
        "  return words\n",
        "\n",
        "# 4. Building a vocabulary (Each sentence will have a feature vector)\n",
        "\n",
        "def myTokenizer(text):\n",
        "  text1=tokenize(text.lower())\n",
        "  text1=stopword_removal(text1)\n",
        "  text1=lemmatize(text1)\n",
        "  return text1\n",
        "\n",
        "cv=CountVectorizer(tokenizer=myTokenizer)"
      ],
      "execution_count": 68,
      "outputs": []
    },
    {
      "cell_type": "code",
      "metadata": {
        "id": "k30MI7zmH9bg",
        "colab": {
          "base_uri": "https://localhost:8080/"
        },
        "outputId": "ddc8623e-c15f-45ee-b640-743e95302dfb"
      },
      "source": [
        "print(sw)"
      ],
      "execution_count": 69,
      "outputs": [
        {
          "output_type": "stream",
          "text": [
            "{'some', 'do', 'had', 'an', 'such', 'not', \"isn't\", 'about', 'mustn', 'you', 're', 'both', 'who', 'y', 'during', 'ain', 'his', 'doesn', 'don', 'haven', 'just', 'him', 'few', 'o', 'into', \"didn't\", 'isn', 'didn', 'yourselves', 'here', 'needn', \"you've\", 'herself', \"shan't\", 'ours', \"should've\", 'himself', 'her', 'when', 'from', 'were', 'between', \"it's\", 'any', \"mustn't\", 'same', 'before', 'nor', \"she's\", 'they', 'itself', 'then', 'further', 'am', 'being', 'but', 'be', 'no', \"couldn't\", \"that'll\", 'ma', 'those', 'them', 'all', \"wasn't\", 'the', 'this', 'a', 'more', 'as', 'having', 'she', 'out', 'to', \"needn't\", 'if', \"hasn't\", 'theirs', 'i', 'on', \"mightn't\", 'was', 'at', \"aren't\", 'shan', 'whom', \"won't\", \"weren't\", 'your', 'through', 'themselves', 'other', \"shouldn't\", 'hasn', 'too', 'it', \"you'll\", 'its', 'that', 'yours', 'what', \"don't\", 'by', 'with', 'each', 'weren', 'under', 'while', 'over', 'than', 'aren', 'how', 'yourself', 'above', 'very', 'couldn', 'can', 'own', 'off', 'my', 'been', \"you're\", 'have', 'shouldn', \"doesn't\", 'we', \"hadn't\", 'won', 'our', 'again', 'he', 'll', \"wouldn't\", 'now', 'or', 'will', 'why', 'so', 'until', 'm', 'hers', 'only', 'are', 'should', 'in', 'below', 'which', 'because', 'does', 't', 'against', 'there', 'wouldn', 'ourselves', 'mightn', 'myself', 'for', 'has', 's', 'up', 'of', 'd', 'once', 'where', 'me', 've', 'down', \"you'd\", 'most', 'their', 'doing', 'wasn', 'hadn', 'and', 'these', \"haven't\", 'did', 'is', 'after'}\n"
          ],
          "name": "stdout"
        }
      ]
    },
    {
      "cell_type": "code",
      "metadata": {
        "id": "MV_VoOEBTr8k",
        "colab": {
          "base_uri": "https://localhost:8080/"
        },
        "outputId": "171595a1-24f9-4bf9-bdb8-75530ac7ad11"
      },
      "source": [
        "#Splitting the training data - (Training and Testing data)\n",
        "\n",
        "train_x=df.review[:40000]\n",
        "train_y=df.sentiment[:40000]\n",
        "\n",
        "test_x=df.review[40000:]\n",
        "test_y=df.sentiment[40000:]\n",
        "\n",
        "print(train_x.shape,type(train_x))\n",
        "print(test_x.shape,type(test_x))"
      ],
      "execution_count": 70,
      "outputs": [
        {
          "output_type": "stream",
          "text": [
            "(40000,) <class 'pandas.core.series.Series'>\n",
            "(10000,) <class 'pandas.core.series.Series'>\n"
          ],
          "name": "stdout"
        }
      ]
    },
    {
      "cell_type": "code",
      "metadata": {
        "id": "o4UuyurHuD-U"
      },
      "source": [
        "# Applying all the above operations on the training data\n",
        "\n",
        "vectorised_data=cv.fit_transform(train_x)"
      ],
      "execution_count": 71,
      "outputs": []
    },
    {
      "cell_type": "code",
      "metadata": {
        "id": "jHqEMUrFwAYx",
        "colab": {
          "base_uri": "https://localhost:8080/"
        },
        "outputId": "55f0344d-f496-446a-fb47-5d5e934a4efa"
      },
      "source": [
        "print(vectorised_data.shape)"
      ],
      "execution_count": 72,
      "outputs": [
        {
          "output_type": "stream",
          "text": [
            "(40000, 181861)\n"
          ],
          "name": "stdout"
        }
      ]
    },
    {
      "cell_type": "code",
      "metadata": {
        "id": "mKMbN9YlxKyh"
      },
      "source": [
        "# Converting the test and train data in vectorised form\n",
        "\n",
        "cv_train=cv.transform(train_x)\n",
        "cv_test=cv.transform(test_x)"
      ],
      "execution_count": 73,
      "outputs": []
    },
    {
      "cell_type": "code",
      "metadata": {
        "id": "wvB23wTG05xU",
        "colab": {
          "base_uri": "https://localhost:8080/"
        },
        "outputId": "b287085e-2cab-401e-f8a4-80bfbef9e34b"
      },
      "source": [
        "print(cv_train.shape)"
      ],
      "execution_count": 74,
      "outputs": [
        {
          "output_type": "stream",
          "text": [
            "(40000, 181861)\n"
          ],
          "name": "stdout"
        }
      ]
    },
    {
      "cell_type": "code",
      "metadata": {
        "id": "kTQopzg4tbI7",
        "colab": {
          "base_uri": "https://localhost:8080/"
        },
        "outputId": "311c28ee-4e5f-4064-d8c0-714061fb923c"
      },
      "source": [
        "# Labelling the sentiment data\n",
        "\n",
        "lb=LabelBinarizer()\n",
        "sentiment_data=lb.fit_transform(df['sentiment'])\n",
        "print(sentiment_data.shape)\n",
        "\n",
        "train_sentiments=sentiment_data[:40000]\n",
        "test_sentiments=sentiment_data[40000:]"
      ],
      "execution_count": 75,
      "outputs": [
        {
          "output_type": "stream",
          "text": [
            "(50000, 1)\n"
          ],
          "name": "stdout"
        }
      ]
    },
    {
      "cell_type": "code",
      "metadata": {
        "id": "RuxYzRVSlp1Z",
        "colab": {
          "base_uri": "https://localhost:8080/"
        },
        "outputId": "ea3f6734-fa6b-494d-d157-6d3c330d9df4"
      },
      "source": [
        "# Building the MLP (Multi layer perceptron) Model\n",
        "\n",
        "model=Sequential()\n",
        "model.add(Dense(16,activation=\"relu\",input_shape=(181861,)))\n",
        "model.add(Dense(16,activation=\"relu\"))\n",
        "model.add(Dense(1,activation=\"sigmoid\"))\n",
        "\n",
        "model.compile(optimizer='sgd',loss='binary_crossentropy',metrics=['accuracy'])\n",
        "\n",
        "model.summary()"
      ],
      "execution_count": 76,
      "outputs": [
        {
          "output_type": "stream",
          "text": [
            "Model: \"sequential_1\"\n",
            "_________________________________________________________________\n",
            "Layer (type)                 Output Shape              Param #   \n",
            "=================================================================\n",
            "dense_3 (Dense)              (None, 16)                2909792   \n",
            "_________________________________________________________________\n",
            "dense_4 (Dense)              (None, 16)                272       \n",
            "_________________________________________________________________\n",
            "dense_5 (Dense)              (None, 1)                 17        \n",
            "=================================================================\n",
            "Total params: 2,910,081\n",
            "Trainable params: 2,910,081\n",
            "Non-trainable params: 0\n",
            "_________________________________________________________________\n"
          ],
          "name": "stdout"
        }
      ]
    },
    {
      "cell_type": "code",
      "metadata": {
        "id": "iLO1PRG1lsH5",
        "colab": {
          "base_uri": "https://localhost:8080/"
        },
        "outputId": "6406fdb6-0dff-44e6-e183-7594e8192f55"
      },
      "source": [
        "hist=model.fit(cv_train,train_sentiments,epochs=60,batch_size=512)"
      ],
      "execution_count": 77,
      "outputs": [
        {
          "output_type": "stream",
          "text": [
            "Epoch 1/60\n"
          ],
          "name": "stdout"
        },
        {
          "output_type": "stream",
          "text": [
            "/usr/local/lib/python3.7/dist-packages/tensorflow/python/framework/indexed_slices.py:449: UserWarning: Converting sparse IndexedSlices(IndexedSlices(indices=Tensor(\"gradient_tape/sequential_1/dense_3/embedding_lookup_sparse/Reshape_1:0\", shape=(None,), dtype=int32), values=Tensor(\"gradient_tape/sequential_1/dense_3/embedding_lookup_sparse/Reshape:0\", shape=(None, 16), dtype=float32), dense_shape=Tensor(\"gradient_tape/sequential_1/dense_3/embedding_lookup_sparse/Cast:0\", shape=(2,), dtype=int32))) to a dense Tensor of unknown shape. This may consume a large amount of memory.\n",
            "  \"shape. This may consume a large amount of memory.\" % value)\n"
          ],
          "name": "stderr"
        },
        {
          "output_type": "stream",
          "text": [
            "79/79 [==============================] - 1s 6ms/step - loss: 0.6880 - accuracy: 0.5839\n",
            "Epoch 2/60\n",
            "79/79 [==============================] - 1s 6ms/step - loss: 0.6529 - accuracy: 0.7425\n",
            "Epoch 3/60\n",
            "79/79 [==============================] - 1s 6ms/step - loss: 0.6134 - accuracy: 0.7831\n",
            "Epoch 4/60\n",
            "79/79 [==============================] - 1s 6ms/step - loss: 0.5713 - accuracy: 0.8059\n",
            "Epoch 5/60\n",
            "79/79 [==============================] - 1s 6ms/step - loss: 0.5285 - accuracy: 0.8172\n",
            "Epoch 6/60\n",
            "79/79 [==============================] - 1s 6ms/step - loss: 0.4886 - accuracy: 0.8320\n",
            "Epoch 7/60\n",
            "79/79 [==============================] - 1s 6ms/step - loss: 0.4557 - accuracy: 0.8399\n",
            "Epoch 8/60\n",
            "79/79 [==============================] - 1s 6ms/step - loss: 0.4288 - accuracy: 0.8455\n",
            "Epoch 9/60\n",
            "79/79 [==============================] - 1s 6ms/step - loss: 0.4026 - accuracy: 0.8518\n",
            "Epoch 10/60\n",
            "79/79 [==============================] - 1s 6ms/step - loss: 0.3808 - accuracy: 0.8628\n",
            "Epoch 11/60\n",
            "79/79 [==============================] - 1s 6ms/step - loss: 0.3684 - accuracy: 0.8652\n",
            "Epoch 12/60\n",
            "79/79 [==============================] - 1s 6ms/step - loss: 0.3598 - accuracy: 0.8641\n",
            "Epoch 13/60\n",
            "79/79 [==============================] - 1s 6ms/step - loss: 0.3450 - accuracy: 0.8714\n",
            "Epoch 14/60\n",
            "79/79 [==============================] - 1s 6ms/step - loss: 0.3279 - accuracy: 0.8773\n",
            "Epoch 15/60\n",
            "79/79 [==============================] - 1s 6ms/step - loss: 0.3145 - accuracy: 0.8831\n",
            "Epoch 16/60\n",
            "79/79 [==============================] - 1s 6ms/step - loss: 0.3080 - accuracy: 0.8851\n",
            "Epoch 17/60\n",
            "79/79 [==============================] - 1s 6ms/step - loss: 0.2992 - accuracy: 0.8880\n",
            "Epoch 18/60\n",
            "79/79 [==============================] - 1s 6ms/step - loss: 0.2956 - accuracy: 0.8890\n",
            "Epoch 19/60\n",
            "79/79 [==============================] - 1s 6ms/step - loss: 0.2853 - accuracy: 0.8935\n",
            "Epoch 20/60\n",
            "79/79 [==============================] - 1s 6ms/step - loss: 0.2793 - accuracy: 0.8958\n",
            "Epoch 21/60\n",
            "79/79 [==============================] - 1s 6ms/step - loss: 0.2735 - accuracy: 0.8971\n",
            "Epoch 22/60\n",
            "79/79 [==============================] - 1s 6ms/step - loss: 0.2649 - accuracy: 0.9023\n",
            "Epoch 23/60\n",
            "79/79 [==============================] - 1s 6ms/step - loss: 0.2573 - accuracy: 0.9040\n",
            "Epoch 24/60\n",
            "79/79 [==============================] - 1s 6ms/step - loss: 0.2568 - accuracy: 0.9040\n",
            "Epoch 25/60\n",
            "79/79 [==============================] - 1s 6ms/step - loss: 0.2537 - accuracy: 0.9043\n",
            "Epoch 26/60\n",
            "79/79 [==============================] - 1s 6ms/step - loss: 0.2472 - accuracy: 0.9068\n",
            "Epoch 27/60\n",
            "79/79 [==============================] - 1s 6ms/step - loss: 0.2435 - accuracy: 0.9096\n",
            "Epoch 28/60\n",
            "79/79 [==============================] - 1s 6ms/step - loss: 0.2389 - accuracy: 0.9104\n",
            "Epoch 29/60\n",
            "79/79 [==============================] - 1s 6ms/step - loss: 0.2345 - accuracy: 0.9117\n",
            "Epoch 30/60\n",
            "79/79 [==============================] - 1s 6ms/step - loss: 0.2308 - accuracy: 0.9127\n",
            "Epoch 31/60\n",
            "79/79 [==============================] - 1s 6ms/step - loss: 0.2279 - accuracy: 0.9153\n",
            "Epoch 32/60\n",
            "79/79 [==============================] - 1s 6ms/step - loss: 0.2222 - accuracy: 0.9173\n",
            "Epoch 33/60\n",
            "79/79 [==============================] - 1s 6ms/step - loss: 0.2184 - accuracy: 0.9171\n",
            "Epoch 34/60\n",
            "79/79 [==============================] - 1s 6ms/step - loss: 0.2144 - accuracy: 0.9207\n",
            "Epoch 35/60\n",
            "79/79 [==============================] - 1s 6ms/step - loss: 0.2132 - accuracy: 0.9194\n",
            "Epoch 36/60\n",
            "79/79 [==============================] - 1s 6ms/step - loss: 0.2085 - accuracy: 0.9242\n",
            "Epoch 37/60\n",
            "79/79 [==============================] - 1s 6ms/step - loss: 0.2065 - accuracy: 0.9240\n",
            "Epoch 38/60\n",
            "79/79 [==============================] - 1s 6ms/step - loss: 0.2009 - accuracy: 0.9256\n",
            "Epoch 39/60\n",
            "79/79 [==============================] - 1s 6ms/step - loss: 0.1986 - accuracy: 0.9270\n",
            "Epoch 40/60\n",
            "79/79 [==============================] - 1s 6ms/step - loss: 0.1995 - accuracy: 0.9262\n",
            "Epoch 41/60\n",
            "79/79 [==============================] - 1s 7ms/step - loss: 0.1963 - accuracy: 0.9289\n",
            "Epoch 42/60\n",
            "79/79 [==============================] - 1s 6ms/step - loss: 0.1908 - accuracy: 0.9308\n",
            "Epoch 43/60\n",
            "79/79 [==============================] - 1s 6ms/step - loss: 0.1904 - accuracy: 0.9321\n",
            "Epoch 44/60\n",
            "79/79 [==============================] - 1s 6ms/step - loss: 0.1896 - accuracy: 0.9314\n",
            "Epoch 45/60\n",
            "79/79 [==============================] - 1s 6ms/step - loss: 0.1861 - accuracy: 0.9320\n",
            "Epoch 46/60\n",
            "79/79 [==============================] - 1s 6ms/step - loss: 0.1813 - accuracy: 0.9366\n",
            "Epoch 47/60\n",
            "79/79 [==============================] - 1s 6ms/step - loss: 0.1803 - accuracy: 0.9364\n",
            "Epoch 48/60\n",
            "79/79 [==============================] - 1s 6ms/step - loss: 0.1784 - accuracy: 0.9365\n",
            "Epoch 49/60\n",
            "79/79 [==============================] - 1s 6ms/step - loss: 0.1750 - accuracy: 0.9388\n",
            "Epoch 50/60\n",
            "79/79 [==============================] - 1s 6ms/step - loss: 0.1748 - accuracy: 0.9389\n",
            "Epoch 51/60\n",
            "79/79 [==============================] - 1s 6ms/step - loss: 0.1722 - accuracy: 0.9376\n",
            "Epoch 52/60\n",
            "79/79 [==============================] - 1s 6ms/step - loss: 0.1675 - accuracy: 0.9423\n",
            "Epoch 53/60\n",
            "79/79 [==============================] - 1s 7ms/step - loss: 0.1651 - accuracy: 0.9416\n",
            "Epoch 54/60\n",
            "79/79 [==============================] - 1s 6ms/step - loss: 0.1675 - accuracy: 0.9428\n",
            "Epoch 55/60\n",
            "79/79 [==============================] - 1s 6ms/step - loss: 0.1635 - accuracy: 0.9437\n",
            "Epoch 56/60\n",
            "79/79 [==============================] - 1s 6ms/step - loss: 0.1619 - accuracy: 0.9454\n",
            "Epoch 57/60\n",
            "79/79 [==============================] - 1s 6ms/step - loss: 0.1583 - accuracy: 0.9474\n",
            "Epoch 58/60\n",
            "79/79 [==============================] - 1s 6ms/step - loss: 0.1549 - accuracy: 0.9469\n",
            "Epoch 59/60\n",
            "79/79 [==============================] - 1s 6ms/step - loss: 0.1515 - accuracy: 0.9490\n",
            "Epoch 60/60\n",
            "79/79 [==============================] - 1s 6ms/step - loss: 0.1518 - accuracy: 0.9488\n"
          ],
          "name": "stdout"
        }
      ]
    },
    {
      "cell_type": "code",
      "metadata": {
        "id": "hxkPXU3B1VVB",
        "colab": {
          "base_uri": "https://localhost:8080/",
          "height": 281
        },
        "outputId": "8fe1de5a-146f-43d1-a172-5a88767a287f"
      },
      "source": [
        "h=hist.history\n",
        "plt.plot(h['loss'],label=\"training_loss\")\n",
        "plt.xlabel(\"Epochs\")\n",
        "plt.ylabel(\"Loss\")\n",
        "plt.legend()\n",
        "plt.show()"
      ],
      "execution_count": 78,
      "outputs": [
        {
          "output_type": "display_data",
          "data": {
            "image/png": "[encoded data removed]",
            "text/plain": [
              "<Figure size 432x288 with 1 Axes>"
            ]
          },
          "metadata": {
            "tags": [],
            "needs_background": "light"
          }
        }
      ]
    },
    {
      "cell_type": "code",
      "metadata": {
        "id": "QeJ8Qoem4XqL",
        "colab": {
          "base_uri": "https://localhost:8080/",
          "height": 279
        },
        "outputId": "cf32f1a6-9c35-4f58-faf0-edc7224f5b53"
      },
      "source": [
        "plt.plot(h['accuracy'],label=\"training_accuracy\")\n",
        "plt.xlabel(\"Epochs\")\n",
        "plt.ylabel(\"Accuracy\")\n",
        "plt.legend()\n",
        "plt.show()"
      ],
      "execution_count": 79,
      "outputs": [
        {
          "output_type": "display_data",
          "data": {
            "image/png": "[encoded data removed]",
            "text/plain": [
              "<Figure size 432x288 with 1 Axes>"
            ]
          },
          "metadata": {
            "tags": [],
            "needs_background": "light"
          }
        }
      ]
    },
    {
      "cell_type": "code",
      "metadata": {
        "id": "_Dl_98dM5n2t",
        "colab": {
          "base_uri": "https://localhost:8080/"
        },
        "outputId": "50ebb5bb-c70b-4ddd-fb82-6f5dbed03044"
      },
      "source": [
        "model.evaluate(cv_test,test_sentiments)"
      ],
      "execution_count": 80,
      "outputs": [
        {
          "output_type": "stream",
          "text": [
            "313/313 [==============================] - 1s 3ms/step - loss: 0.2913 - accuracy: 0.8874\n"
          ],
          "name": "stdout"
        },
        {
          "output_type": "execute_result",
          "data": {
            "text/plain": [
              "[0.2912976145744324, 0.8873999714851379]"
            ]
          },
          "metadata": {
            "tags": []
          },
          "execution_count": 80
        }
      ]
    },
    {
      "cell_type": "code",
      "metadata": {
        "id": "tNpS6EN96dlr"
      },
      "source": [
        "# Got around 89 percent accuracy."
      ],
      "execution_count": 81,
      "outputs": []
    },
    {
      "cell_type": "code",
      "metadata": {
        "id": "nGcuKsrI7Wip"
      },
      "source": [
        ""
      ],
      "execution_count": 81,
      "outputs": []
    }
  ]
}